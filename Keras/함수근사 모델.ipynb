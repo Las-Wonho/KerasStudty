{
 "cells": [
  {
   "cell_type": "code",
   "execution_count": 1,
   "metadata": {},
   "outputs": [
    {
     "name": "stderr",
     "output_type": "stream",
     "text": [
      "D:\\LLAS\\lib\\site-packages\\h5py\\__init__.py:36: FutureWarning: Conversion of the second argument of issubdtype from `float` to `np.floating` is deprecated. In future, it will be treated as `np.float64 == np.dtype(float).type`.\n",
      "  from ._conv import register_converters as _register_converters\n",
      "Using TensorFlow backend.\n"
     ]
    }
   ],
   "source": [
    "import keras\n",
    "import numpy as np"
   ]
  },
  {
   "cell_type": "code",
   "execution_count": 2,
   "metadata": {},
   "outputs": [],
   "source": [
    "X=np.random.random(100)\n",
    "Y=X*5-3"
   ]
  },
  {
   "cell_type": "code",
   "execution_count": 3,
   "metadata": {},
   "outputs": [],
   "source": [
    "model=keras.models.Sequential()\n",
    "model.add(layer=keras.layers.Dense(10,input_shape=(1,)))\n",
    "model.add(layer=keras.layers.Dense(10,activation='relu'))\n",
    "model.add(layer=keras.layers.Dense(20,activation='relu'))\n",
    "model.add(layer=keras.layers.Dense(5,activation='relu'))\n",
    "model.add(layer=keras.layers.Dense(1))"
   ]
  },
  {
   "cell_type": "code",
   "execution_count": 4,
   "metadata": {},
   "outputs": [],
   "source": [
    "model.compile(loss=\"mse\",optimizer='adam')"
   ]
  },
  {
   "cell_type": "code",
   "execution_count": 5,
   "metadata": {},
   "outputs": [
    {
     "name": "stdout",
     "output_type": "stream",
     "text": [
      "Epoch 1/100\n",
      "100/100 [==============================] - 0s 4ms/step - loss: 2.6310\n",
      "Epoch 2/100\n",
      "100/100 [==============================] - 0s 65us/step - loss: 2.6027\n",
      "Epoch 3/100\n",
      "100/100 [==============================] - 0s 70us/step - loss: 2.5765\n",
      "Epoch 4/100\n",
      "100/100 [==============================] - 0s 75us/step - loss: 2.5481\n",
      "Epoch 5/100\n",
      "100/100 [==============================] - 0s 81us/step - loss: 2.5232\n",
      "Epoch 6/100\n",
      "100/100 [==============================] - 0s 60us/step - loss: 2.4968\n",
      "Epoch 7/100\n",
      "100/100 [==============================] - 0s 70us/step - loss: 2.4722\n",
      "Epoch 8/100\n",
      "100/100 [==============================] - 0s 80us/step - loss: 2.4481\n",
      "Epoch 9/100\n",
      "100/100 [==============================] - 0s 75us/step - loss: 2.4244\n",
      "Epoch 10/100\n",
      "100/100 [==============================] - 0s 70us/step - loss: 2.4003\n",
      "Epoch 11/100\n",
      "100/100 [==============================] - 0s 75us/step - loss: 2.3757\n",
      "Epoch 12/100\n",
      "100/100 [==============================] - 0s 75us/step - loss: 2.3506\n",
      "Epoch 13/100\n",
      "100/100 [==============================] - 0s 70us/step - loss: 2.3244\n",
      "Epoch 14/100\n",
      "100/100 [==============================] - 0s 75us/step - loss: 2.2942\n",
      "Epoch 15/100\n",
      "100/100 [==============================] - 0s 65us/step - loss: 2.2663\n",
      "Epoch 16/100\n",
      "100/100 [==============================] - 0s 75us/step - loss: 2.2345\n",
      "Epoch 17/100\n",
      "100/100 [==============================] - 0s 85us/step - loss: 2.1999\n",
      "Epoch 18/100\n",
      "100/100 [==============================] - 0s 95us/step - loss: 2.1648\n",
      "Epoch 19/100\n",
      "100/100 [==============================] - 0s 75us/step - loss: 2.1253\n",
      "Epoch 20/100\n",
      "100/100 [==============================] - 0s 85us/step - loss: 2.0849\n",
      "Epoch 21/100\n",
      "100/100 [==============================] - 0s 75us/step - loss: 2.0423\n",
      "Epoch 22/100\n",
      "100/100 [==============================] - 0s 75us/step - loss: 1.9974\n",
      "Epoch 23/100\n",
      "100/100 [==============================] - 0s 65us/step - loss: 1.9516\n",
      "Epoch 24/100\n",
      "100/100 [==============================] - 0s 80us/step - loss: 1.9023\n",
      "Epoch 25/100\n",
      "100/100 [==============================] - 0s 75us/step - loss: 1.8481\n",
      "Epoch 26/100\n",
      "100/100 [==============================] - 0s 80us/step - loss: 1.7921\n",
      "Epoch 27/100\n",
      "100/100 [==============================] - 0s 70us/step - loss: 1.7305\n",
      "Epoch 28/100\n",
      "100/100 [==============================] - 0s 80us/step - loss: 1.6634\n",
      "Epoch 29/100\n",
      "100/100 [==============================] - 0s 55us/step - loss: 1.5954\n",
      "Epoch 30/100\n",
      "100/100 [==============================] - 0s 105us/step - loss: 1.5203\n",
      "Epoch 31/100\n",
      "100/100 [==============================] - 0s 85us/step - loss: 1.4375\n",
      "Epoch 32/100\n",
      "100/100 [==============================] - 0s 95us/step - loss: 1.3504\n",
      "Epoch 33/100\n",
      "100/100 [==============================] - 0s 70us/step - loss: 1.2655\n",
      "Epoch 34/100\n",
      "100/100 [==============================] - 0s 95us/step - loss: 1.1778\n",
      "Epoch 35/100\n",
      "100/100 [==============================] - 0s 80us/step - loss: 1.0806\n",
      "Epoch 36/100\n",
      "100/100 [==============================] - 0s 75us/step - loss: 0.9945\n",
      "Epoch 37/100\n",
      "100/100 [==============================] - 0s 75us/step - loss: 0.9028\n",
      "Epoch 38/100\n",
      "100/100 [==============================] - 0s 85us/step - loss: 0.8084\n",
      "Epoch 39/100\n",
      "100/100 [==============================] - 0s 85us/step - loss: 0.7132\n",
      "Epoch 40/100\n",
      "100/100 [==============================] - 0s 65us/step - loss: 0.6217\n",
      "Epoch 41/100\n",
      "100/100 [==============================] - 0s 70us/step - loss: 0.5376\n",
      "Epoch 42/100\n",
      "100/100 [==============================] - 0s 75us/step - loss: 0.4543\n",
      "Epoch 43/100\n",
      "100/100 [==============================] - 0s 80us/step - loss: 0.3780\n",
      "Epoch 44/100\n",
      "100/100 [==============================] - 0s 65us/step - loss: 0.3041\n",
      "Epoch 45/100\n",
      "100/100 [==============================] - 0s 65us/step - loss: 0.2450\n",
      "Epoch 46/100\n",
      "100/100 [==============================] - 0s 85us/step - loss: 0.1921\n",
      "Epoch 47/100\n",
      "100/100 [==============================] - 0s 85us/step - loss: 0.1449\n",
      "Epoch 48/100\n",
      "100/100 [==============================] - 0s 60us/step - loss: 0.1085\n",
      "Epoch 49/100\n",
      "100/100 [==============================] - 0s 80us/step - loss: 0.0795\n",
      "Epoch 50/100\n",
      "100/100 [==============================] - 0s 80us/step - loss: 0.0578\n",
      "Epoch 51/100\n",
      "100/100 [==============================] - 0s 75us/step - loss: 0.0410\n",
      "Epoch 52/100\n",
      "100/100 [==============================] - 0s 75us/step - loss: 0.0307\n",
      "Epoch 53/100\n",
      "100/100 [==============================] - 0s 56us/step - loss: 0.0219\n",
      "Epoch 54/100\n",
      "100/100 [==============================] - 0s 90us/step - loss: 0.0169\n",
      "Epoch 55/100\n",
      "100/100 [==============================] - 0s 55us/step - loss: 0.0139\n",
      "Epoch 56/100\n",
      "100/100 [==============================] - 0s 70us/step - loss: 0.0105\n",
      "Epoch 57/100\n",
      "100/100 [==============================] - 0s 70us/step - loss: 0.0089\n",
      "Epoch 58/100\n",
      "100/100 [==============================] - 0s 60us/step - loss: 0.0067\n",
      "Epoch 59/100\n",
      "100/100 [==============================] - 0s 65us/step - loss: 0.0051\n",
      "Epoch 60/100\n",
      "100/100 [==============================] - 0s 75us/step - loss: 0.0040\n",
      "Epoch 61/100\n",
      "100/100 [==============================] - 0s 65us/step - loss: 0.0033\n",
      "Epoch 62/100\n",
      "100/100 [==============================] - 0s 65us/step - loss: 0.0027\n",
      "Epoch 63/100\n",
      "100/100 [==============================] - 0s 70us/step - loss: 0.0023\n",
      "Epoch 64/100\n",
      "100/100 [==============================] - 0s 55us/step - loss: 0.0020\n",
      "Epoch 65/100\n",
      "100/100 [==============================] - 0s 65us/step - loss: 0.0017\n",
      "Epoch 66/100\n",
      "100/100 [==============================] - 0s 65us/step - loss: 0.0014\n",
      "Epoch 67/100\n",
      "100/100 [==============================] - 0s 45us/step - loss: 0.0012\n",
      "Epoch 68/100\n",
      "100/100 [==============================] - 0s 65us/step - loss: 0.0010\n",
      "Epoch 69/100\n",
      "100/100 [==============================] - 0s 70us/step - loss: 8.8502e-04\n",
      "Epoch 70/100\n",
      "100/100 [==============================] - 0s 85us/step - loss: 7.4886e-04\n",
      "Epoch 71/100\n",
      "100/100 [==============================] - 0s 65us/step - loss: 6.3135e-04\n",
      "Epoch 72/100\n",
      "100/100 [==============================] - 0s 70us/step - loss: 5.6299e-04\n",
      "Epoch 73/100\n",
      "100/100 [==============================] - 0s 60us/step - loss: 5.1140e-04\n",
      "Epoch 74/100\n",
      "100/100 [==============================] - 0s 80us/step - loss: 4.4867e-04\n",
      "Epoch 75/100\n",
      "100/100 [==============================] - 0s 55us/step - loss: 4.1398e-04\n",
      "Epoch 76/100\n",
      "100/100 [==============================] - 0s 50us/step - loss: 3.7002e-04\n",
      "Epoch 77/100\n",
      "100/100 [==============================] - 0s 75us/step - loss: 3.4764e-04\n",
      "Epoch 78/100\n",
      "100/100 [==============================] - 0s 65us/step - loss: 3.0317e-04\n",
      "Epoch 79/100\n",
      "100/100 [==============================] - 0s 70us/step - loss: 2.8696e-04\n",
      "Epoch 80/100\n",
      "100/100 [==============================] - 0s 55us/step - loss: 2.5668e-04\n",
      "Epoch 81/100\n",
      "100/100 [==============================] - 0s 692us/step - loss: 2.4837e-04\n",
      "Epoch 82/100\n",
      "100/100 [==============================] - 0s 65us/step - loss: 2.2684e-04\n",
      "Epoch 83/100\n",
      "100/100 [==============================] - 0s 65us/step - loss: 2.0938e-04\n",
      "Epoch 84/100\n",
      "100/100 [==============================] - 0s 60us/step - loss: 1.9535e-04\n",
      "Epoch 85/100\n",
      "100/100 [==============================] - 0s 70us/step - loss: 1.8867e-04\n",
      "Epoch 86/100\n",
      "100/100 [==============================] - 0s 70us/step - loss: 1.8176e-04\n",
      "Epoch 87/100\n",
      "100/100 [==============================] - 0s 55us/step - loss: 1.7328e-04\n",
      "Epoch 88/100\n",
      "100/100 [==============================] - 0s 55us/step - loss: 1.6443e-04\n",
      "Epoch 89/100\n",
      "100/100 [==============================] - 0s 65us/step - loss: 1.5143e-04\n",
      "Epoch 90/100\n",
      "100/100 [==============================] - 0s 75us/step - loss: 1.4950e-04\n",
      "Epoch 91/100\n",
      "100/100 [==============================] - 0s 80us/step - loss: 1.4074e-04\n",
      "Epoch 92/100\n",
      "100/100 [==============================] - 0s 55us/step - loss: 1.3440e-04\n",
      "Epoch 93/100\n",
      "100/100 [==============================] - 0s 55us/step - loss: 1.2714e-04\n",
      "Epoch 94/100\n",
      "100/100 [==============================] - 0s 60us/step - loss: 1.2289e-04\n",
      "Epoch 95/100\n",
      "100/100 [==============================] - 0s 60us/step - loss: 1.1808e-04\n",
      "Epoch 96/100\n",
      "100/100 [==============================] - 0s 75us/step - loss: 1.1425e-04\n",
      "Epoch 97/100\n"
     ]
    },
    {
     "name": "stdout",
     "output_type": "stream",
     "text": [
      "100/100 [==============================] - 0s 60us/step - loss: 1.0932e-04\n",
      "Epoch 98/100\n",
      "100/100 [==============================] - 0s 65us/step - loss: 1.0553e-04\n",
      "Epoch 99/100\n",
      "100/100 [==============================] - 0s 55us/step - loss: 1.0142e-04\n",
      "Epoch 100/100\n",
      "100/100 [==============================] - 0s 55us/step - loss: 9.7961e-05\n"
     ]
    },
    {
     "data": {
      "text/plain": [
       "<keras.callbacks.History at 0x1d26ca70400>"
      ]
     },
     "execution_count": 5,
     "metadata": {},
     "output_type": "execute_result"
    }
   ],
   "source": [
    "model.fit(X,Y,epochs=100)"
   ]
  },
  {
   "cell_type": "code",
   "execution_count": 6,
   "metadata": {},
   "outputs": [],
   "source": [
    "Y_=model.predict(X)"
   ]
  },
  {
   "cell_type": "code",
   "execution_count": 8,
   "metadata": {},
   "outputs": [
    {
     "data": {
      "text/plain": [
       "array([[-0.1601116],\n",
       "       [-2.5737503],\n",
       "       [ 1.4705095]], dtype=float32)"
      ]
     },
     "execution_count": 8,
     "metadata": {},
     "output_type": "execute_result"
    }
   ],
   "source": [
    "Y_[0:3]"
   ]
  },
  {
   "cell_type": "code",
   "execution_count": 9,
   "metadata": {},
   "outputs": [
    {
     "data": {
      "text/plain": [
       "array([-0.16040363, -2.57052855,  1.46784453])"
      ]
     },
     "execution_count": 9,
     "metadata": {},
     "output_type": "execute_result"
    }
   ],
   "source": [
    "Y[0:3]"
   ]
  },
  {
   "cell_type": "code",
   "execution_count": null,
   "metadata": {},
   "outputs": [],
   "source": []
  }
 ],
 "metadata": {
  "kernelspec": {
   "display_name": "Python 3",
   "language": "python",
   "name": "python3"
  },
  "language_info": {
   "codemirror_mode": {
    "name": "ipython",
    "version": 3
   },
   "file_extension": ".py",
   "mimetype": "text/x-python",
   "name": "python",
   "nbconvert_exporter": "python",
   "pygments_lexer": "ipython3",
   "version": "3.6.4"
  }
 },
 "nbformat": 4,
 "nbformat_minor": 2
}
