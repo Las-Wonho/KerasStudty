{
 "cells": [
  {
   "cell_type": "code",
   "execution_count": 1,
   "metadata": {},
   "outputs": [],
   "source": [
    "import numpy as np\n",
    "import matplotlib.pyplot as plt"
   ]
  },
  {
   "cell_type": "code",
   "execution_count": 2,
   "metadata": {},
   "outputs": [],
   "source": [
    "'''\n",
    "0 가위\n",
    "1 바위\n",
    "2 보\n",
    "'''\n",
    "def is_same(a,b):\n",
    "    if(a==b):\n",
    "        return 2\n",
    "    if(a==0 and b==1):\n",
    "        return 1\n",
    "    if(a==0 and b == 2):\n",
    "        return 0\n",
    "    if(a==1 and b == 0):\n",
    "        return 0\n",
    "    if(a==1 and b==2):\n",
    "        return 1\n",
    "    if(a==2 and b==0):\n",
    "        return 1\n",
    "    if(a==2 and b ==1):\n",
    "        return 0\n",
    "    return False"
   ]
  },
  {
   "cell_type": "code",
   "execution_count": 3,
   "metadata": {},
   "outputs": [],
   "source": [
    "\n",
    "def draw_gragh(y1_value):\n",
    "    x_name=('Win','Lose', 'Draw')\n",
    "    n_groups = len(x_name)\n",
    "    index = np.arange(n_groups)\n",
    "    plt.bar(index, y1_value, tick_label=x_name, align='center')\n",
    "    plt.xlim( -1, n_groups)"
   ]
  },
  {
   "cell_type": "code",
   "execution_count": 22,
   "metadata": {},
   "outputs": [],
   "source": [
    "a = [0, 0, 0]\n",
    "for i in range(200):\n",
    "    A = np.random.randint(0,3)\n",
    "    B = np.random.randint(0,3)\n",
    "    a[is_same(A,B)]+=1"
   ]
  },
  {
   "cell_type": "code",
   "execution_count": 23,
   "metadata": {},
   "outputs": [
    {
     "data": {
      "image/png": "[encoded data removed]",
      "text/plain": [
       "<Figure size 432x288 with 1 Axes>"
      ]
     },
     "metadata": {},
     "output_type": "display_data"
    }
   ],
   "source": [
    "draw_gragh(a)"
   ]
  },
  {
   "cell_type": "code",
   "execution_count": null,
   "metadata": {},
   "outputs": [],
   "source": []
  }
 ],
 "metadata": {
  "kernelspec": {
   "display_name": "Python 3",
   "language": "python",
   "name": "python3"
  },
  "language_info": {
   "codemirror_mode": {
    "name": "ipython",
    "version": 3
   },
   "file_extension": ".py",
   "mimetype": "text/x-python",
   "name": "python",
   "nbconvert_exporter": "python",
   "pygments_lexer": "ipython3",
   "version": "3.6.5"
  }
 },
 "nbformat": 4,
 "nbformat_minor": 2
}
