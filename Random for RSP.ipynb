{
 "cells": [
  {
   "cell_type": "code",
   "execution_count": 1,
   "metadata": {},
   "outputs": [],
   "source": [
    "import numpy as np\n",
    "import matplotlib.pyplot as pp"
   ]
  },
  {
   "cell_type": "code",
   "execution_count": 2,
   "metadata": {},
   "outputs": [],
   "source": [
    "'''\n",
    "0 가위\n",
    "1 바위\n",
    "2 보\n",
    "'''\n",
    "ar = [0, 0, 0]\n",
    "arr=list()\n",
    "def is_same(a,b):\n",
    "    if(a==b):\n",
    "        arr.append(((ar[2]+1)/(ar[1]+ar[2]+ar[0]+1)))\n",
    "        return 2\n",
    "    if(a==0 and b==1):\n",
    "        return 1\n",
    "    if(a==0 and b == 2):\n",
    "        return 0\n",
    "    if(a==1 and b == 0):\n",
    "        return 0\n",
    "    if(a==1 and b==2):\n",
    "        return 1\n",
    "    if(a==2 and b==0):\n",
    "        return 1\n",
    "    if(a==2 and b ==1):\n",
    "        return 0\n",
    "    return False"
   ]
  },
  {
   "cell_type": "code",
   "execution_count": 7,
   "metadata": {},
   "outputs": [],
   "source": [
    "\n",
    "def draw_gragh(y1_value):\n",
    "    x_name=('Win','Lose', 'Draw')\n",
    "    n_groups = len(x_name)\n",
    "    index = np.arange(n_groups)\n",
    "    pp.bar(index, y1_value, tick_label=x_name, align='center')\n",
    "    pp.xlim( -1, n_groups)"
   ]
  },
  {
   "cell_type": "code",
   "execution_count": 24,
   "metadata": {},
   "outputs": [],
   "source": [
    "ar=[0,0,0]\n",
    "arr=list()\n",
    "for i in range(100000):\n",
    "    A = np.random.randint(0,3)\n",
    "    B = np.random.randint(0,3)\n",
    "    ar[is_same(A,B)]+=1"
   ]
  },
  {
   "cell_type": "code",
   "execution_count": 25,
   "metadata": {},
   "outputs": [],
   "source": [
    "draw_gragh(ar)"
   ]
  },
  {
   "cell_type": "code",
   "execution_count": 26,
   "metadata": {},
   "outputs": [
    {
     "name": "stdout",
     "output_type": "stream",
     "text": [
      "Using matplotlib backend: Qt5Agg\n"
     ]
    }
   ],
   "source": [
    "\n",
    "%matplotlib\n",
    "pp.plot(arr)\n",
    "pp.ylabel('some numbers')\n",
    "pp.show()"
   ]
  },
  {
   "cell_type": "code",
   "execution_count": 17,
   "metadata": {},
   "outputs": [],
   "source": [
    "labels = ['Win','Loses','Draw']\n",
    "ratio = [ar[0],ar[1],ar[2]]\n",
    "pp.pie(ratio, labels=labels, shadow=True, startangle=90,autopct='%1.1f%%')\n",
    "pp.show()"
   ]
  },
  {
   "cell_type": "code",
   "execution_count": 130,
   "metadata": {},
   "outputs": [
    {
     "data": {
      "text/plain": [
       "[<matplotlib.lines.Line2D at 0x2d01ecd1978>]"
      ]
     },
     "execution_count": 130,
     "metadata": {},
     "output_type": "execute_result"
    }
   ],
   "source": []
  },
  {
   "cell_type": "code",
   "execution_count": 137,
   "metadata": {},
   "outputs": [
    {
     "data": {
      "text/plain": [
       "Text(0.5,0,'Z Label')"
      ]
     },
     "execution_count": 137,
     "metadata": {},
     "output_type": "execute_result"
    }
   ],
   "source": []
  },
  {
   "cell_type": "code",
   "execution_count": null,
   "metadata": {},
   "outputs": [],
   "source": []
  }
 ],
 "metadata": {
  "kernelspec": {
   "display_name": "Python 3",
   "language": "python",
   "name": "python3"
  },
  "language_info": {
   "codemirror_mode": {
    "name": "ipython",
    "version": 3
   },
   "file_extension": ".py",
   "mimetype": "text/x-python",
   "name": "python",
   "nbconvert_exporter": "python",
   "pygments_lexer": "ipython3",
   "version": "3.6.5"
  }
 },
 "nbformat": 4,
 "nbformat_minor": 2
}
